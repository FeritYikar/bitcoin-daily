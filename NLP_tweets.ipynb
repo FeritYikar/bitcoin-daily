{
 "cells": [
  {
   "cell_type": "code",
   "execution_count": 221,
   "metadata": {},
   "outputs": [],
   "source": [
    "import numpy as np\n",
    "import pandas as pd\n",
    "import seaborn as sns\n",
    "import re\n",
    "import tensorflow as tf\n",
    "import matplotlib.pyplot as plt\n",
    "from nltk.tokenize import word_tokenize\n",
    "import nltk\n",
    "from nltk.corpus import stopwords, gutenberg\n",
    "from nltk.collections import *\n",
    "from nltk import FreqDist, word_tokenize\n",
    "import string\n",
    "from nltk.tokenize import RegexpTokenizer\n",
    "from sklearn.model_selection import train_test_split\n",
    "from nltk.stem import SnowballStemmer\n",
    "from sklearn.metrics import confusion_matrix, accuracy_score\n",
    "from keras.preprocessing.text import Tokenizer\n",
    "from tensorflow.keras.preprocessing.sequence import pad_sequences\n",
    "from tensorflow.keras.models import Sequential\n",
    "from tensorflow.keras.layers import Dense, LSTM, Dropout, Embedding, SpatialDropout1D\n",
    "from sklearn.preprocessing import OneHotEncoder\n",
    "from keras.callbacks import ModelCheckpoint\n",
    "from keras.models import load_model\n",
    "import pickle"
   ]
  },
  {
   "cell_type": "code",
   "execution_count": 88,
   "metadata": {},
   "outputs": [
    {
     "name": "stderr",
     "output_type": "stream",
     "text": [
      "[nltk_data] Downloading package stopwords to\n",
      "[nltk_data]     /Users/ferityikar/nltk_data...\n",
      "[nltk_data]   Package stopwords is already up-to-date!\n"
     ]
    }
   ],
   "source": [
    "nltk.download('stopwords')"
   ]
  },
  {
   "cell_type": "code",
   "execution_count": 89,
   "metadata": {},
   "outputs": [],
   "source": [
    "tw_df = pd.read_csv('data/BTC_tweets_daily_example.csv')"
   ]
  },
  {
   "cell_type": "code",
   "execution_count": 90,
   "metadata": {},
   "outputs": [],
   "source": [
    "nlp_data = tw_df[['Tweet','Sentiment']]"
   ]
  },
  {
   "cell_type": "code",
   "execution_count": 91,
   "metadata": {},
   "outputs": [
    {
     "name": "stderr",
     "output_type": "stream",
     "text": [
      "/Users/ferityikar/opt/anaconda3/envs/btc-nlp/lib/python3.8/site-packages/pandas/core/generic.py:5168: SettingWithCopyWarning: \n",
      "A value is trying to be set on a copy of a slice from a DataFrame.\n",
      "Try using .loc[row_indexer,col_indexer] = value instead\n",
      "\n",
      "See the caveats in the documentation: https://pandas.pydata.org/pandas-docs/stable/user_guide/indexing.html#returning-a-view-versus-a-copy\n",
      "  self[name] = value\n"
     ]
    }
   ],
   "source": [
    "sent_dict = {\"['neutral']\": 'Neutral',\"['positive']\": 'Positive', \"['negative']\": 'Negative'}\n",
    "nlp_data.Sentiment = nlp_data.Sentiment.map(sent_dict)"
   ]
  },
  {
   "cell_type": "code",
   "execution_count": 92,
   "metadata": {},
   "outputs": [
    {
     "data": {
      "text/html": [
       "<div>\n",
       "<style scoped>\n",
       "    .dataframe tbody tr th:only-of-type {\n",
       "        vertical-align: middle;\n",
       "    }\n",
       "\n",
       "    .dataframe tbody tr th {\n",
       "        vertical-align: top;\n",
       "    }\n",
       "\n",
       "    .dataframe thead th {\n",
       "        text-align: right;\n",
       "    }\n",
       "</style>\n",
       "<table border=\"1\" class=\"dataframe\">\n",
       "  <thead>\n",
       "    <tr style=\"text-align: right;\">\n",
       "      <th></th>\n",
       "      <th>Tweet</th>\n",
       "    </tr>\n",
       "    <tr>\n",
       "      <th>Sentiment</th>\n",
       "      <th></th>\n",
       "    </tr>\n",
       "  </thead>\n",
       "  <tbody>\n",
       "    <tr>\n",
       "      <th>Negative</th>\n",
       "      <td>5983</td>\n",
       "    </tr>\n",
       "    <tr>\n",
       "      <th>Neutral</th>\n",
       "      <td>21932</td>\n",
       "    </tr>\n",
       "    <tr>\n",
       "      <th>Positive</th>\n",
       "      <td>22937</td>\n",
       "    </tr>\n",
       "  </tbody>\n",
       "</table>\n",
       "</div>"
      ],
      "text/plain": [
       "           Tweet\n",
       "Sentiment       \n",
       "Negative    5983\n",
       "Neutral    21932\n",
       "Positive   22937"
      ]
     },
     "execution_count": 92,
     "metadata": {},
     "output_type": "execute_result"
    }
   ],
   "source": [
    "nlp_data.groupby('Sentiment').count()"
   ]
  },
  {
   "cell_type": "code",
   "execution_count": 93,
   "metadata": {},
   "outputs": [],
   "source": [
    "nlp_data = nlp_data.dropna()"
   ]
  },
  {
   "cell_type": "code",
   "execution_count": 94,
   "metadata": {},
   "outputs": [
    {
     "data": {
      "text/html": [
       "<div>\n",
       "<style scoped>\n",
       "    .dataframe tbody tr th:only-of-type {\n",
       "        vertical-align: middle;\n",
       "    }\n",
       "\n",
       "    .dataframe tbody tr th {\n",
       "        vertical-align: top;\n",
       "    }\n",
       "\n",
       "    .dataframe thead th {\n",
       "        text-align: right;\n",
       "    }\n",
       "</style>\n",
       "<table border=\"1\" class=\"dataframe\">\n",
       "  <thead>\n",
       "    <tr style=\"text-align: right;\">\n",
       "      <th></th>\n",
       "      <th>Tweet</th>\n",
       "      <th>Sentiment</th>\n",
       "    </tr>\n",
       "  </thead>\n",
       "  <tbody>\n",
       "    <tr>\n",
       "      <th>0</th>\n",
       "      <td>RT @ALXTOKEN: Paul Krugman, Nobel Luddite. I h...</td>\n",
       "      <td>Neutral</td>\n",
       "    </tr>\n",
       "    <tr>\n",
       "      <th>1</th>\n",
       "      <td>@lopp @_Kevin_Pham @psycho_sage @naval But @Pr...</td>\n",
       "      <td>Neutral</td>\n",
       "    </tr>\n",
       "    <tr>\n",
       "      <th>2</th>\n",
       "      <td>RT @tippereconomy: Another use case for #block...</td>\n",
       "      <td>Positive</td>\n",
       "    </tr>\n",
       "    <tr>\n",
       "      <th>3</th>\n",
       "      <td>free coins https://t.co/DiuoePJdap</td>\n",
       "      <td>Positive</td>\n",
       "    </tr>\n",
       "    <tr>\n",
       "      <th>4</th>\n",
       "      <td>RT @payvxofficial: WE are happy to announce th...</td>\n",
       "      <td>Positive</td>\n",
       "    </tr>\n",
       "    <tr>\n",
       "      <th>...</th>\n",
       "      <td>...</td>\n",
       "      <td>...</td>\n",
       "    </tr>\n",
       "    <tr>\n",
       "      <th>50868</th>\n",
       "      <td>RT @fixy_app: Fixy Network brings popular cryp...</td>\n",
       "      <td>Positive</td>\n",
       "    </tr>\n",
       "    <tr>\n",
       "      <th>50869</th>\n",
       "      <td>RT @bethereumteam: After a successful launch o...</td>\n",
       "      <td>Positive</td>\n",
       "    </tr>\n",
       "    <tr>\n",
       "      <th>50870</th>\n",
       "      <td>RT @GymRewards: Buy #GYMRewards Tokens, Bonus ...</td>\n",
       "      <td>Neutral</td>\n",
       "    </tr>\n",
       "    <tr>\n",
       "      <th>50871</th>\n",
       "      <td>I added a video to a @YouTube playlist https:/...</td>\n",
       "      <td>Positive</td>\n",
       "    </tr>\n",
       "    <tr>\n",
       "      <th>50872</th>\n",
       "      <td>RT @Raybambs: Airdrop PhotoCoin Airdrop Round#...</td>\n",
       "      <td>Positive</td>\n",
       "    </tr>\n",
       "  </tbody>\n",
       "</table>\n",
       "<p>50852 rows × 2 columns</p>\n",
       "</div>"
      ],
      "text/plain": [
       "                                                   Tweet Sentiment\n",
       "0      RT @ALXTOKEN: Paul Krugman, Nobel Luddite. I h...   Neutral\n",
       "1      @lopp @_Kevin_Pham @psycho_sage @naval But @Pr...   Neutral\n",
       "2      RT @tippereconomy: Another use case for #block...  Positive\n",
       "3                     free coins https://t.co/DiuoePJdap  Positive\n",
       "4      RT @payvxofficial: WE are happy to announce th...  Positive\n",
       "...                                                  ...       ...\n",
       "50868  RT @fixy_app: Fixy Network brings popular cryp...  Positive\n",
       "50869  RT @bethereumteam: After a successful launch o...  Positive\n",
       "50870  RT @GymRewards: Buy #GYMRewards Tokens, Bonus ...   Neutral\n",
       "50871  I added a video to a @YouTube playlist https:/...  Positive\n",
       "50872  RT @Raybambs: Airdrop PhotoCoin Airdrop Round#...  Positive\n",
       "\n",
       "[50852 rows x 2 columns]"
      ]
     },
     "execution_count": 94,
     "metadata": {},
     "output_type": "execute_result"
    }
   ],
   "source": [
    "nlp_data"
   ]
  },
  {
   "cell_type": "code",
   "execution_count": 95,
   "metadata": {},
   "outputs": [],
   "source": [
    "def remove_pattern(text, pattern):\n",
    "    r = re.findall(pattern, text)\n",
    "    for i in r:\n",
    "        text = re.sub(i, '', text)\n",
    "    return text\n",
    "\n",
    "def pattern_apply(input):\n",
    "    return input.str.replace('[^a-zA-Z]', ' ')\n",
    "\n",
    "def remove_short(input, length=3):\n",
    "    return input.apply(lambda x: ' '.join([w for w in x.split() if len(w) > length]))\n",
    "\n",
    "def tokenize(input):\n",
    "    return input.apply(lambda x: x.split())\n",
    "\n",
    "def stemmer(input):\n",
    "    return input.apply(lambda x: [SnowballStemmer('english').stem(i) for i in x])\n",
    "\n",
    "def join_tokenize(input):\n",
    "    return input.apply(lambda x: ' '.join(x))\n",
    "\n",
    "def hashtag_extract(input, flatten=True):\n",
    "    hashtags = []\n",
    "    for i in input:\n",
    "        ht = re.findall(r\"#(\\w+)\", i)\n",
    "        if flatten:\n",
    "            hashtags.append(ht)\n",
    "        else:\n",
    "            hashtags.append([ht])\n",
    "\n",
    "    return sum(hashtags, [])"
   ]
  },
  {
   "cell_type": "code",
   "execution_count": 112,
   "metadata": {},
   "outputs": [],
   "source": [
    "def cleaning_pipeline(nlp_data):\n",
    "    nlp_data['TweetClean'] = np.vectorize(remove_pattern)(nlp_data['Tweet'],\"@[\\w]*\")\n",
    "    nlp_data['TweetClean'] = np.vectorize(remove_pattern)(nlp_data['TweetClean'],'https?://[A-Za-z0-9./]+')\n",
    "    nlp_data['TweetClean'] = pattern_apply(nlp_data['TweetClean'])\n",
    "    nlp_data['TweetClean'] = remove_short(nlp_data['TweetClean'])\n",
    "    tokenized_tweet = tokenize(nlp_data['TweetClean'])\n",
    "    tokenized_tweet = stemmer(tokenized_tweet)\n",
    "    nlp_data['TweetClean'] = join_tokenize(tokenized_tweet)\n",
    "    nlp_data['TweetClean'] = np.vectorize(remove_pattern)(nlp_data['TweetClean'],\"#[\\w]*\")\n",
    "    nlp_data['Name Length'] = nlp_data['TweetClean'].str.len()\n",
    "\n",
    "    return nlp_data"
   ]
  },
  {
   "cell_type": "code",
   "execution_count": 113,
   "metadata": {},
   "outputs": [],
   "source": [
    "nlp_data = cleaning_pipeline(nlp_data)"
   ]
  },
  {
   "cell_type": "code",
   "execution_count": 98,
   "metadata": {},
   "outputs": [
    {
     "data": {
      "text/html": [
       "<div>\n",
       "<style scoped>\n",
       "    .dataframe tbody tr th:only-of-type {\n",
       "        vertical-align: middle;\n",
       "    }\n",
       "\n",
       "    .dataframe tbody tr th {\n",
       "        vertical-align: top;\n",
       "    }\n",
       "\n",
       "    .dataframe thead th {\n",
       "        text-align: right;\n",
       "    }\n",
       "</style>\n",
       "<table border=\"1\" class=\"dataframe\">\n",
       "  <thead>\n",
       "    <tr style=\"text-align: right;\">\n",
       "      <th></th>\n",
       "      <th>Tweet</th>\n",
       "      <th>Sentiment</th>\n",
       "      <th>TweetClean</th>\n",
       "      <th>Name Length</th>\n",
       "    </tr>\n",
       "  </thead>\n",
       "  <tbody>\n",
       "    <tr>\n",
       "      <th>0</th>\n",
       "      <td>RT @ALXTOKEN: Paul Krugman, Nobel Luddite. I h...</td>\n",
       "      <td>Neutral</td>\n",
       "      <td>paul krugman nobel luddit tweak nose this bitc...</td>\n",
       "      <td>88</td>\n",
       "    </tr>\n",
       "    <tr>\n",
       "      <th>1</th>\n",
       "      <td>@lopp @_Kevin_Pham @psycho_sage @naval But @Pr...</td>\n",
       "      <td>Neutral</td>\n",
       "      <td>said know noth about bitcoin</td>\n",
       "      <td>28</td>\n",
       "    </tr>\n",
       "    <tr>\n",
       "      <th>2</th>\n",
       "      <td>RT @tippereconomy: Another use case for #block...</td>\n",
       "      <td>Positive</td>\n",
       "      <td>anoth case blockchain tipper tippereconomi uns...</td>\n",
       "      <td>77</td>\n",
       "    </tr>\n",
       "    <tr>\n",
       "      <th>3</th>\n",
       "      <td>free coins https://t.co/DiuoePJdap</td>\n",
       "      <td>Positive</td>\n",
       "      <td>free coin</td>\n",
       "      <td>9</td>\n",
       "    </tr>\n",
       "    <tr>\n",
       "      <th>4</th>\n",
       "      <td>RT @payvxofficial: WE are happy to announce th...</td>\n",
       "      <td>Positive</td>\n",
       "      <td>happi announc that payvx presal phase live sig...</td>\n",
       "      <td>62</td>\n",
       "    </tr>\n",
       "    <tr>\n",
       "      <th>...</th>\n",
       "      <td>...</td>\n",
       "      <td>...</td>\n",
       "      <td>...</td>\n",
       "      <td>...</td>\n",
       "    </tr>\n",
       "    <tr>\n",
       "      <th>50868</th>\n",
       "      <td>RT @fixy_app: Fixy Network brings popular cryp...</td>\n",
       "      <td>Positive</td>\n",
       "      <td>fixi network bring popular cryptocurr retail p...</td>\n",
       "      <td>100</td>\n",
       "    </tr>\n",
       "    <tr>\n",
       "      <th>50869</th>\n",
       "      <td>RT @bethereumteam: After a successful launch o...</td>\n",
       "      <td>Positive</td>\n",
       "      <td>after success launch bounti campaign manag fil...</td>\n",
       "      <td>71</td>\n",
       "    </tr>\n",
       "    <tr>\n",
       "      <th>50870</th>\n",
       "      <td>RT @GymRewards: Buy #GYMRewards Tokens, Bonus ...</td>\n",
       "      <td>Neutral</td>\n",
       "      <td>gymreward token bonus time end cryptocurr mobi...</td>\n",
       "      <td>62</td>\n",
       "    </tr>\n",
       "    <tr>\n",
       "      <th>50871</th>\n",
       "      <td>I added a video to a @YouTube playlist https:/...</td>\n",
       "      <td>Positive</td>\n",
       "      <td>ad video playlist bitcoin cloud mine free life...</td>\n",
       "      <td>60</td>\n",
       "    </tr>\n",
       "    <tr>\n",
       "      <th>50872</th>\n",
       "      <td>RT @Raybambs: Airdrop PhotoCoin Airdrop Round#...</td>\n",
       "      <td>Positive</td>\n",
       "      <td>airdrop photocoin airdrop round photocoin will...</td>\n",
       "      <td>96</td>\n",
       "    </tr>\n",
       "  </tbody>\n",
       "</table>\n",
       "<p>50852 rows × 4 columns</p>\n",
       "</div>"
      ],
      "text/plain": [
       "                                                   Tweet Sentiment  \\\n",
       "0      RT @ALXTOKEN: Paul Krugman, Nobel Luddite. I h...   Neutral   \n",
       "1      @lopp @_Kevin_Pham @psycho_sage @naval But @Pr...   Neutral   \n",
       "2      RT @tippereconomy: Another use case for #block...  Positive   \n",
       "3                     free coins https://t.co/DiuoePJdap  Positive   \n",
       "4      RT @payvxofficial: WE are happy to announce th...  Positive   \n",
       "...                                                  ...       ...   \n",
       "50868  RT @fixy_app: Fixy Network brings popular cryp...  Positive   \n",
       "50869  RT @bethereumteam: After a successful launch o...  Positive   \n",
       "50870  RT @GymRewards: Buy #GYMRewards Tokens, Bonus ...   Neutral   \n",
       "50871  I added a video to a @YouTube playlist https:/...  Positive   \n",
       "50872  RT @Raybambs: Airdrop PhotoCoin Airdrop Round#...  Positive   \n",
       "\n",
       "                                              TweetClean  Name Length  \n",
       "0      paul krugman nobel luddit tweak nose this bitc...           88  \n",
       "1                           said know noth about bitcoin           28  \n",
       "2      anoth case blockchain tipper tippereconomi uns...           77  \n",
       "3                                              free coin            9  \n",
       "4      happi announc that payvx presal phase live sig...           62  \n",
       "...                                                  ...          ...  \n",
       "50868  fixi network bring popular cryptocurr retail p...          100  \n",
       "50869  after success launch bounti campaign manag fil...           71  \n",
       "50870  gymreward token bonus time end cryptocurr mobi...           62  \n",
       "50871  ad video playlist bitcoin cloud mine free life...           60  \n",
       "50872  airdrop photocoin airdrop round photocoin will...           96  \n",
       "\n",
       "[50852 rows x 4 columns]"
      ]
     },
     "execution_count": 98,
     "metadata": {},
     "output_type": "execute_result"
    }
   ],
   "source": [
    "nlp_data"
   ]
  },
  {
   "cell_type": "code",
   "execution_count": 11,
   "metadata": {},
   "outputs": [
    {
     "data": {
      "text/plain": [
       "24604    112\n",
       "21877    108\n",
       "16906    107\n",
       "20201    106\n",
       "18387    106\n",
       "        ... \n",
       "45077      0\n",
       "5144       0\n",
       "14263      0\n",
       "14641      0\n",
       "2537       0\n",
       "Name: Name Length, Length: 50852, dtype: int64"
      ]
     },
     "execution_count": 11,
     "metadata": {},
     "output_type": "execute_result"
    }
   ],
   "source": [
    "nlp_data['Name Length'].sort_values(ascending=False)"
   ]
  },
  {
   "cell_type": "markdown",
   "metadata": {},
   "source": [
    "LSTM MODEL"
   ]
  },
  {
   "cell_type": "markdown",
   "metadata": {},
   "source": [
    "Train-Test Split"
   ]
  },
  {
   "cell_type": "code",
   "execution_count": 184,
   "metadata": {},
   "outputs": [],
   "source": [
    "X = nlp_data.TweetClean\n",
    "enc = OneHotEncoder()\n",
    "y = enc.fit_transform(np.array(nlp_data['Sentiment']).reshape(-1,1)).toarray()\n"
   ]
  },
  {
   "cell_type": "code",
   "execution_count": 185,
   "metadata": {},
   "outputs": [
    {
     "name": "stdout",
     "output_type": "stream",
     "text": [
      "Found 11349 unique tokens.\n"
     ]
    }
   ],
   "source": [
    "max_num_words = 50000\n",
    "max_sequence_len = 112\n",
    "embedding_dim = 100\n",
    "\n",
    "tokenizer_lstm = Tokenizer(num_words = max_num_words, filters = '!\"#$%&()*+,-./:;<=>?@[\\]^_`{\\}~', lower=True)\n",
    "tokenizer_lstm.fit_on_texts(X.values)\n",
    "word_index = tokenizer_lstm.word_index\n",
    "print(f'Found {len(word_index)} unique tokens.')"
   ]
  },
  {
   "cell_type": "code",
   "execution_count": 202,
   "metadata": {},
   "outputs": [
    {
     "data": {
      "text/plain": [
       "((35596,), (15256,), (35596, 3), (15256, 3))"
      ]
     },
     "execution_count": 202,
     "metadata": {},
     "output_type": "execute_result"
    }
   ],
   "source": [
    "X_train, X_test, y_train, y_test = train_test_split(X, y, test_size=0.3)\n",
    "X_train.shape, X_test.shape, y_train.shape, y_test.shape"
   ]
  },
  {
   "cell_type": "code",
   "execution_count": 187,
   "metadata": {},
   "outputs": [],
   "source": [
    "pickle_out = open('charts/tokenizer_lstm.pickle','wb')\n",
    "pickle.dump(tokenizer_lstm, pickle_out)\n",
    "pickle_out.close()"
   ]
  },
  {
   "cell_type": "code",
   "execution_count": 203,
   "metadata": {},
   "outputs": [],
   "source": [
    "X_train = tokenizer_lstm.texts_to_sequences(X_train.values)\n",
    "X_test = tokenizer_lstm.texts_to_sequences(X_test.values)\n",
    "X_train = pad_sequences(X_train, maxlen=max_sequence_len)\n",
    "X_test = pad_sequences(X_test, maxlen=max_sequence_len)\n"
   ]
  },
  {
   "cell_type": "code",
   "execution_count": 204,
   "metadata": {},
   "outputs": [
    {
     "data": {
      "text/plain": [
       "((35596, 112), (15256, 112), (35596, 3), (15256, 3))"
      ]
     },
     "execution_count": 204,
     "metadata": {},
     "output_type": "execute_result"
    }
   ],
   "source": [
    "X_train.shape, X_test.shape, y_train.shape, y_test.shape"
   ]
  },
  {
   "cell_type": "markdown",
   "metadata": {},
   "source": [
    "RNN Model"
   ]
  },
  {
   "cell_type": "code",
   "execution_count": 190,
   "metadata": {},
   "outputs": [],
   "source": [
    "nlp_model = Sequential()\n",
    "nlp_model.add(Embedding(max_num_words, embedding_dim, input_length=112))\n",
    "nlp_model.add(SpatialDropout1D(0.2))\n",
    "nlp_model.add(LSTM(100, dropout=0.2, recurrent_dropout=0.2))\n",
    "nlp_model.add(Dense(3, activation='softmax'))\n",
    "nlp_model.compile(loss='categorical_crossentropy', optimizer='adam', metrics=['accuracy'])"
   ]
  },
  {
   "cell_type": "code",
   "execution_count": 191,
   "metadata": {},
   "outputs": [
    {
     "name": "stdout",
     "output_type": "stream",
     "text": [
      "Model: \"sequential_3\"\n",
      "_________________________________________________________________\n",
      "Layer (type)                 Output Shape              Param #   \n",
      "=================================================================\n",
      "embedding_3 (Embedding)      (None, 112, 100)          5000000   \n",
      "_________________________________________________________________\n",
      "spatial_dropout1d_3 (Spatial (None, 112, 100)          0         \n",
      "_________________________________________________________________\n",
      "lstm_3 (LSTM)                (None, 100)               80400     \n",
      "_________________________________________________________________\n",
      "dense_3 (Dense)              (None, 3)                 303       \n",
      "=================================================================\n",
      "Total params: 5,080,703\n",
      "Trainable params: 5,080,703\n",
      "Non-trainable params: 0\n",
      "_________________________________________________________________\n"
     ]
    }
   ],
   "source": [
    "nlp_model.summary()"
   ]
  },
  {
   "cell_type": "code",
   "execution_count": 192,
   "metadata": {},
   "outputs": [],
   "source": [
    "#Save the best model\n",
    "filepath = 'models/nlp_model.hdf5'\n",
    "\n",
    "checkpoint = ModelCheckpoint(filepath=filepath,\n",
    "                                monitor='val_loss',\n",
    "                                verbose=1,\n",
    "                                save_best_only=True,\n",
    "                                mode='min')\n",
    "callbacks = [checkpoint]"
   ]
  },
  {
   "cell_type": "code",
   "execution_count": 193,
   "metadata": {},
   "outputs": [
    {
     "name": "stdout",
     "output_type": "stream",
     "text": [
      "Epoch 1/5\n",
      "223/223 [==============================] - ETA: 0s - loss: 0.4732 - accuracy: 0.8034\n",
      "Epoch 00001: val_loss improved from inf to 0.22191, saving model to models/nlp_model.hdf5\n",
      "223/223 [==============================] - 58s 260ms/step - loss: 0.4732 - accuracy: 0.8034 - val_loss: 0.2219 - val_accuracy: 0.9271\n",
      "Epoch 2/5\n",
      "223/223 [==============================] - ETA: 0s - loss: 0.1603 - accuracy: 0.9490\n",
      "Epoch 00002: val_loss improved from 0.22191 to 0.17246, saving model to models/nlp_model.hdf5\n",
      "223/223 [==============================] - 65s 293ms/step - loss: 0.1603 - accuracy: 0.9490 - val_loss: 0.1725 - val_accuracy: 0.9449\n",
      "Epoch 3/5\n",
      "223/223 [==============================] - ETA: 0s - loss: 0.1036 - accuracy: 0.9677\n",
      "Epoch 00003: val_loss did not improve from 0.17246\n",
      "223/223 [==============================] - 59s 263ms/step - loss: 0.1036 - accuracy: 0.9677 - val_loss: 0.1746 - val_accuracy: 0.9483\n",
      "Epoch 4/5\n",
      "223/223 [==============================] - ETA: 0s - loss: 0.0760 - accuracy: 0.9769\n",
      "Epoch 00004: val_loss improved from 0.17246 to 0.16812, saving model to models/nlp_model.hdf5\n",
      "223/223 [==============================] - 59s 262ms/step - loss: 0.0760 - accuracy: 0.9769 - val_loss: 0.1681 - val_accuracy: 0.9518\n",
      "Epoch 5/5\n",
      "223/223 [==============================] - ETA: 0s - loss: 0.0604 - accuracy: 0.9815\n",
      "Epoch 00005: val_loss did not improve from 0.16812\n",
      "223/223 [==============================] - 58s 259ms/step - loss: 0.0604 - accuracy: 0.9815 - val_loss: 0.1906 - val_accuracy: 0.9489\n"
     ]
    },
    {
     "data": {
      "text/plain": [
       "<tensorflow.python.keras.callbacks.History at 0x7fea1e5e9a30>"
      ]
     },
     "execution_count": 193,
     "metadata": {},
     "output_type": "execute_result"
    }
   ],
   "source": [
    "nlp_model.fit(X_train, y_train, epochs=5, batch_size=128, validation_split=0.2, callbacks=callbacks)"
   ]
  },
  {
   "cell_type": "code",
   "execution_count": 205,
   "metadata": {},
   "outputs": [],
   "source": [
    "load_file = 'models/nlp_model.hdf5'\n",
    "nlp_model = load_model(load_file)\n",
    "y_hat = nlp_model.predict(X_test)"
   ]
  },
  {
   "cell_type": "code",
   "execution_count": 207,
   "metadata": {},
   "outputs": [],
   "source": [
    "y_hat = pd.DataFrame(y_hat, columns=['Negative', 'Neutral', 'Positive'])\n",
    "y_hat['prediction'] = y_hat.idxmax(1)\n",
    "\n",
    "y_test_df = pd.DataFrame(y_test, columns=['Negative', 'Neutral', 'Positive'])\n",
    "y_test_df['Actual'] = y_test_df.idxmax(1)"
   ]
  },
  {
   "cell_type": "code",
   "execution_count": 208,
   "metadata": {},
   "outputs": [
    {
     "data": {
      "text/html": [
       "<div>\n",
       "<style scoped>\n",
       "    .dataframe tbody tr th:only-of-type {\n",
       "        vertical-align: middle;\n",
       "    }\n",
       "\n",
       "    .dataframe tbody tr th {\n",
       "        vertical-align: top;\n",
       "    }\n",
       "\n",
       "    .dataframe thead th {\n",
       "        text-align: right;\n",
       "    }\n",
       "</style>\n",
       "<table border=\"1\" class=\"dataframe\">\n",
       "  <thead>\n",
       "    <tr style=\"text-align: right;\">\n",
       "      <th></th>\n",
       "      <th>Negative</th>\n",
       "      <th>Neutral</th>\n",
       "      <th>Positive</th>\n",
       "      <th>prediction</th>\n",
       "    </tr>\n",
       "  </thead>\n",
       "  <tbody>\n",
       "    <tr>\n",
       "      <th>0</th>\n",
       "      <td>0.000107</td>\n",
       "      <td>0.999246</td>\n",
       "      <td>0.000647</td>\n",
       "      <td>Neutral</td>\n",
       "    </tr>\n",
       "    <tr>\n",
       "      <th>1</th>\n",
       "      <td>0.000079</td>\n",
       "      <td>0.999596</td>\n",
       "      <td>0.000325</td>\n",
       "      <td>Neutral</td>\n",
       "    </tr>\n",
       "    <tr>\n",
       "      <th>2</th>\n",
       "      <td>0.000423</td>\n",
       "      <td>0.998813</td>\n",
       "      <td>0.000765</td>\n",
       "      <td>Neutral</td>\n",
       "    </tr>\n",
       "    <tr>\n",
       "      <th>3</th>\n",
       "      <td>0.993099</td>\n",
       "      <td>0.002003</td>\n",
       "      <td>0.004898</td>\n",
       "      <td>Negative</td>\n",
       "    </tr>\n",
       "    <tr>\n",
       "      <th>4</th>\n",
       "      <td>0.004421</td>\n",
       "      <td>0.983223</td>\n",
       "      <td>0.012356</td>\n",
       "      <td>Neutral</td>\n",
       "    </tr>\n",
       "    <tr>\n",
       "      <th>...</th>\n",
       "      <td>...</td>\n",
       "      <td>...</td>\n",
       "      <td>...</td>\n",
       "      <td>...</td>\n",
       "    </tr>\n",
       "    <tr>\n",
       "      <th>15251</th>\n",
       "      <td>0.000093</td>\n",
       "      <td>0.998657</td>\n",
       "      <td>0.001249</td>\n",
       "      <td>Neutral</td>\n",
       "    </tr>\n",
       "    <tr>\n",
       "      <th>15252</th>\n",
       "      <td>0.093275</td>\n",
       "      <td>0.885230</td>\n",
       "      <td>0.021495</td>\n",
       "      <td>Neutral</td>\n",
       "    </tr>\n",
       "    <tr>\n",
       "      <th>15253</th>\n",
       "      <td>0.000037</td>\n",
       "      <td>0.000422</td>\n",
       "      <td>0.999541</td>\n",
       "      <td>Positive</td>\n",
       "    </tr>\n",
       "    <tr>\n",
       "      <th>15254</th>\n",
       "      <td>0.000129</td>\n",
       "      <td>0.999623</td>\n",
       "      <td>0.000248</td>\n",
       "      <td>Neutral</td>\n",
       "    </tr>\n",
       "    <tr>\n",
       "      <th>15255</th>\n",
       "      <td>0.000201</td>\n",
       "      <td>0.002459</td>\n",
       "      <td>0.997340</td>\n",
       "      <td>Positive</td>\n",
       "    </tr>\n",
       "  </tbody>\n",
       "</table>\n",
       "<p>15256 rows × 4 columns</p>\n",
       "</div>"
      ],
      "text/plain": [
       "       Negative   Neutral  Positive prediction\n",
       "0      0.000107  0.999246  0.000647    Neutral\n",
       "1      0.000079  0.999596  0.000325    Neutral\n",
       "2      0.000423  0.998813  0.000765    Neutral\n",
       "3      0.993099  0.002003  0.004898   Negative\n",
       "4      0.004421  0.983223  0.012356    Neutral\n",
       "...         ...       ...       ...        ...\n",
       "15251  0.000093  0.998657  0.001249    Neutral\n",
       "15252  0.093275  0.885230  0.021495    Neutral\n",
       "15253  0.000037  0.000422  0.999541   Positive\n",
       "15254  0.000129  0.999623  0.000248    Neutral\n",
       "15255  0.000201  0.002459  0.997340   Positive\n",
       "\n",
       "[15256 rows x 4 columns]"
      ]
     },
     "execution_count": 208,
     "metadata": {},
     "output_type": "execute_result"
    }
   ],
   "source": [
    "y_hat"
   ]
  },
  {
   "cell_type": "code",
   "execution_count": 210,
   "metadata": {},
   "outputs": [
    {
     "data": {
      "text/html": [
       "<div>\n",
       "<style scoped>\n",
       "    .dataframe tbody tr th:only-of-type {\n",
       "        vertical-align: middle;\n",
       "    }\n",
       "\n",
       "    .dataframe tbody tr th {\n",
       "        vertical-align: top;\n",
       "    }\n",
       "\n",
       "    .dataframe thead th {\n",
       "        text-align: right;\n",
       "    }\n",
       "</style>\n",
       "<table border=\"1\" class=\"dataframe\">\n",
       "  <thead>\n",
       "    <tr style=\"text-align: right;\">\n",
       "      <th></th>\n",
       "      <th>Negative</th>\n",
       "      <th>Neutral</th>\n",
       "      <th>Positive</th>\n",
       "      <th>Actual</th>\n",
       "    </tr>\n",
       "  </thead>\n",
       "  <tbody>\n",
       "    <tr>\n",
       "      <th>0</th>\n",
       "      <td>0.0</td>\n",
       "      <td>1.0</td>\n",
       "      <td>0.0</td>\n",
       "      <td>Neutral</td>\n",
       "    </tr>\n",
       "    <tr>\n",
       "      <th>1</th>\n",
       "      <td>0.0</td>\n",
       "      <td>1.0</td>\n",
       "      <td>0.0</td>\n",
       "      <td>Neutral</td>\n",
       "    </tr>\n",
       "    <tr>\n",
       "      <th>2</th>\n",
       "      <td>0.0</td>\n",
       "      <td>1.0</td>\n",
       "      <td>0.0</td>\n",
       "      <td>Neutral</td>\n",
       "    </tr>\n",
       "    <tr>\n",
       "      <th>3</th>\n",
       "      <td>1.0</td>\n",
       "      <td>0.0</td>\n",
       "      <td>0.0</td>\n",
       "      <td>Negative</td>\n",
       "    </tr>\n",
       "    <tr>\n",
       "      <th>4</th>\n",
       "      <td>0.0</td>\n",
       "      <td>1.0</td>\n",
       "      <td>0.0</td>\n",
       "      <td>Neutral</td>\n",
       "    </tr>\n",
       "    <tr>\n",
       "      <th>...</th>\n",
       "      <td>...</td>\n",
       "      <td>...</td>\n",
       "      <td>...</td>\n",
       "      <td>...</td>\n",
       "    </tr>\n",
       "    <tr>\n",
       "      <th>15251</th>\n",
       "      <td>0.0</td>\n",
       "      <td>1.0</td>\n",
       "      <td>0.0</td>\n",
       "      <td>Neutral</td>\n",
       "    </tr>\n",
       "    <tr>\n",
       "      <th>15252</th>\n",
       "      <td>0.0</td>\n",
       "      <td>0.0</td>\n",
       "      <td>1.0</td>\n",
       "      <td>Positive</td>\n",
       "    </tr>\n",
       "    <tr>\n",
       "      <th>15253</th>\n",
       "      <td>0.0</td>\n",
       "      <td>0.0</td>\n",
       "      <td>1.0</td>\n",
       "      <td>Positive</td>\n",
       "    </tr>\n",
       "    <tr>\n",
       "      <th>15254</th>\n",
       "      <td>0.0</td>\n",
       "      <td>1.0</td>\n",
       "      <td>0.0</td>\n",
       "      <td>Neutral</td>\n",
       "    </tr>\n",
       "    <tr>\n",
       "      <th>15255</th>\n",
       "      <td>0.0</td>\n",
       "      <td>0.0</td>\n",
       "      <td>1.0</td>\n",
       "      <td>Positive</td>\n",
       "    </tr>\n",
       "  </tbody>\n",
       "</table>\n",
       "<p>15256 rows × 4 columns</p>\n",
       "</div>"
      ],
      "text/plain": [
       "       Negative  Neutral  Positive    Actual\n",
       "0           0.0      1.0       0.0   Neutral\n",
       "1           0.0      1.0       0.0   Neutral\n",
       "2           0.0      1.0       0.0   Neutral\n",
       "3           1.0      0.0       0.0  Negative\n",
       "4           0.0      1.0       0.0   Neutral\n",
       "...         ...      ...       ...       ...\n",
       "15251       0.0      1.0       0.0   Neutral\n",
       "15252       0.0      0.0       1.0  Positive\n",
       "15253       0.0      0.0       1.0  Positive\n",
       "15254       0.0      1.0       0.0   Neutral\n",
       "15255       0.0      0.0       1.0  Positive\n",
       "\n",
       "[15256 rows x 4 columns]"
      ]
     },
     "execution_count": 210,
     "metadata": {},
     "output_type": "execute_result"
    }
   ],
   "source": [
    "y_test_df"
   ]
  },
  {
   "cell_type": "code",
   "execution_count": 217,
   "metadata": {},
   "outputs": [
    {
     "data": {
      "text/plain": [
       "Positive    6876\n",
       "Neutral     6557\n",
       "Negative    1823\n",
       "Name: Actual, dtype: int64"
      ]
     },
     "execution_count": 217,
     "metadata": {},
     "output_type": "execute_result"
    }
   ],
   "source": [
    "y_test_df['Actual'].value_counts()"
   ]
  },
  {
   "cell_type": "code",
   "execution_count": 211,
   "metadata": {},
   "outputs": [],
   "source": [
    "cm = confusion_matrix(y_test_df['Actual'], y_hat.prediction)"
   ]
  },
  {
   "cell_type": "code",
   "execution_count": 212,
   "metadata": {},
   "outputs": [
    {
     "name": "stdout",
     "output_type": "stream",
     "text": [
      "[[1714   55   54]\n",
      " [  37 6399  121]\n",
      " [  50  141 6685]]\n"
     ]
    }
   ],
   "source": [
    "print(cm)"
   ]
  },
  {
   "cell_type": "code",
   "execution_count": 214,
   "metadata": {},
   "outputs": [
    {
     "data": {
      "text/plain": [
       "0.9699790246460409"
      ]
     },
     "execution_count": 214,
     "metadata": {},
     "output_type": "execute_result"
    }
   ],
   "source": [
    "acc = accuracy_score(y_test_df['Actual'], y_hat.prediction)\n",
    "acc"
   ]
  },
  {
   "cell_type": "code",
   "execution_count": 222,
   "metadata": {},
   "outputs": [
    {
     "data": {
      "image/png": "[encoded data removed]",
      "text/plain": [
       "<Figure size 720x504 with 2 Axes>"
      ]
     },
     "metadata": {},
     "output_type": "display_data"
    }
   ],
   "source": [
    "df_cm = pd.DataFrame(cm, index=['Negative','Neutral','Positive'],columns=['Negative','Neutral','Positive'])\n",
    "df_cm = df_cm.div(df_cm.sum(axis=1), axis=0)\n",
    "plt.figure(figsize = (10,7))\n",
    "sns.heatmap(df_cm*100, annot=True, fmt='.2f')\n",
    "plt.title('Confusion Matrix (%)')\n",
    "plt.ylabel('Actual')\n",
    "plt.xlabel('Prediction');"
   ]
  },
  {
   "cell_type": "code",
   "execution_count": null,
   "metadata": {},
   "outputs": [],
   "source": []
  },
  {
   "cell_type": "code",
   "execution_count": null,
   "metadata": {},
   "outputs": [],
   "source": []
  }
 ],
 "metadata": {
  "interpreter": {
   "hash": "1e81d9768a2937af9514d7fa33aa30feb69a40df5b58c34cfa60b871c6c10885"
  },
  "kernelspec": {
   "display_name": "Python 3.8.5 64-bit ('learn-env': conda)",
   "language": "python",
   "name": "python3"
  },
  "language_info": {
   "codemirror_mode": {
    "name": "ipython",
    "version": 3
   },
   "file_extension": ".py",
   "mimetype": "text/x-python",
   "name": "python",
   "nbconvert_exporter": "python",
   "pygments_lexer": "ipython3",
   "version": "3.8.5"
  },
  "orig_nbformat": 4
 },
 "nbformat": 4,
 "nbformat_minor": 2
}
